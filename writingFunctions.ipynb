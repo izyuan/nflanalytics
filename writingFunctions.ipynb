{
 "cells": [
  {
   "cell_type": "code",
   "execution_count": 3,
   "metadata": {},
   "outputs": [
    {
     "ename": "ImportError",
     "evalue": "cannot import name 'win_loss' from 'functions' (c:\\Users\\ieyua\\Downloads\\Desktop\\Github\\nflanalytics\\functions.py)",
     "output_type": "error",
     "traceback": [
      "\u001b[1;31m---------------------------------------------------------------------------\u001b[0m",
      "\u001b[1;31mImportError\u001b[0m                               Traceback (most recent call last)",
      "Cell \u001b[1;32mIn[3], line 8\u001b[0m\n\u001b[0;32m      5\u001b[0m \u001b[38;5;28;01mfrom\u001b[39;00m \u001b[38;5;21;01mmatplotlib\u001b[39;00m\u001b[38;5;21;01m.\u001b[39;00m\u001b[38;5;21;01mpatches\u001b[39;00m \u001b[38;5;28;01mimport\u001b[39;00m Rectangle\n\u001b[0;32m      6\u001b[0m \u001b[38;5;28;01mimport\u001b[39;00m \u001b[38;5;21;01mnumpy\u001b[39;00m \u001b[38;5;28;01mas\u001b[39;00m \u001b[38;5;21;01mnp\u001b[39;00m\n\u001b[1;32m----> 8\u001b[0m \u001b[38;5;28;01mfrom\u001b[39;00m \u001b[38;5;21;01mfunctions\u001b[39;00m \u001b[38;5;28;01mimport\u001b[39;00m win_loss\n",
      "\u001b[1;31mImportError\u001b[0m: cannot import name 'win_loss' from 'functions' (c:\\Users\\ieyua\\Downloads\\Desktop\\Github\\nflanalytics\\functions.py)"
     ]
    }
   ],
   "source": [
    "import nfl_data_py as nfl\n",
    "import pandas as pd\n",
    "import matplotlib.pyplot as plt\n",
    "from adjustText import adjust_text\n",
    "from matplotlib.patches import Rectangle\n",
    "import numpy as np\n",
    "\n",
    "from functions import win_loss"
   ]
  },
  {
   "cell_type": "code",
   "execution_count": null,
   "metadata": {},
   "outputs": [],
   "source": [
    "\n",
    "week_by_week2024 = nfl.import_weekly_data([2024], downcast=True)\n",
    "play_by_play2024 = nfl.import_pbp_data([2024], downcast=True, cache=False, alt_path=None)\n",
    "schedule2024 = nfl.import_schedules([2024])\n",
    "seasonal2024 = nfl.import_seasonal_data([2024], \"REG\")\n",
    "winstotal2024 = nfl.import_win_totals([2024])"
   ]
  },
  {
   "cell_type": "code",
   "execution_count": null,
   "metadata": {},
   "outputs": [],
   "source": [
    "# printing the columns of week_by_week so I don't mess up names lol\n",
    "for columns in week_by_week2024.columns: \n",
    "    print (columns)"
   ]
  },
  {
   "cell_type": "code",
   "execution_count": null,
   "metadata": {},
   "outputs": [],
   "source": [
    "# printing the columns of play_byPlay so I don't mess up names lol\n",
    "for column in play_by_play2024.columns:\n",
    "    print(column)"
   ]
  },
  {
   "cell_type": "code",
   "execution_count": null,
   "metadata": {},
   "outputs": [],
   "source": [
    "for column in schedule2024.columns:\n",
    "    print(column)"
   ]
  },
  {
   "cell_type": "code",
   "execution_count": 9,
   "metadata": {},
   "outputs": [
    {
     "ename": "NameError",
     "evalue": "name 'win_loss' is not defined",
     "output_type": "error",
     "traceback": [
      "\u001b[1;31m---------------------------------------------------------------------------\u001b[0m",
      "\u001b[1;31mNameError\u001b[0m                                 Traceback (most recent call last)",
      "Cell \u001b[1;32mIn[9], line 41\u001b[0m\n\u001b[0;32m      1\u001b[0m \u001b[38;5;66;03m# # creating a function to calculate the win/loss ratio for each team given the seasonal data\u001b[39;00m\n\u001b[0;32m      2\u001b[0m \u001b[38;5;66;03m# def win_loss (schedule_df): \u001b[39;00m\n\u001b[0;32m      3\u001b[0m \u001b[38;5;66;03m#     # making the dataframe smaller so its easier to handle the data\u001b[39;00m\n\u001b[1;32m   (...)\u001b[0m\n\u001b[0;32m     37\u001b[0m \n\u001b[0;32m     38\u001b[0m \u001b[38;5;66;03m#     return schedule_df\u001b[39;00m\n\u001b[1;32m---> 41\u001b[0m scheduleWithRecords \u001b[38;5;241m=\u001b[39m win_loss(schedule2024) \n\u001b[0;32m     42\u001b[0m previousGames \u001b[38;5;241m=\u001b[39m scheduleWithRecords[scheduleWithRecords[\u001b[38;5;124m'\u001b[39m\u001b[38;5;124mresult\u001b[39m\u001b[38;5;124m'\u001b[39m]\u001b[38;5;241m.\u001b[39mnotnull()]\n\u001b[0;32m     43\u001b[0m previousGames\n",
      "\u001b[1;31mNameError\u001b[0m: name 'win_loss' is not defined"
     ]
    }
   ],
   "source": [
    "# # creating a function to calculate the win/loss ratio for each team given the seasonal data\n",
    "# def win_loss (schedule_df): \n",
    "#     # making the dataframe smaller so its easier to handle the data\n",
    "#     smallSchedule2024 = schedule_df[['result', 'away_team', 'away_score', 'home_team', 'home_score', 'week']]   \n",
    "#     previousGames = smallSchedule2024[schedule_df['result'].notnull()]\n",
    "    \n",
    "    \n",
    "#     previousGames['home_win'] = np.where(previousGames['result'] > 0, 1, 0)\n",
    "#     previousGames['away_win'] = np.where(previousGames['result'] < 0, 1, 0)\n",
    "    \n",
    "#     ## not sure if all this is necessary. I think the best way to do it would be to just count the 1s and 0s to figure out the record\n",
    "#     # obtaining the week list\n",
    "#     weekList = previousGames['week'].unique()\n",
    "    \n",
    "#     #going week by week to calculate the records\n",
    "#     for week in weekList: \n",
    "#         # getting the data for each week at a time (to tally up the win/loss at the specific time of playing)\n",
    "#         previousWeekData = previousGames[previousGames['week'] <= week]\n",
    "        \n",
    "#         # calculating the wins and losses for each team\n",
    "#         homeWins = previousWeekData.groupby('home_team')['home_win'].sum()\n",
    "#         awayWins = previousWeekData.groupby('away_team')['away_win'].sum()\n",
    "#         homeLosses = previousWeekData.groupby('home_team')['home_win'].count() - previousWeekData.groupby('home_team')['home_win'].sum()\n",
    "#         awayLosses = previousWeekData.groupby('away_team')['away_win'].count() - previousWeekData.groupby('away_team')['away_win'].sum()\n",
    "        \n",
    "#         teamWins = homeWins.add(awayWins, fill_value=0)\n",
    "#         teamLosses = homeLosses.add(awayLosses, fill_value=0)\n",
    "        \n",
    "#         # creates a mask so we get the right week in the origianl df\n",
    "#         mask = schedule_df['week'] == week\n",
    "\n",
    "#         # adding the win/loss record to the schedule_df\n",
    "#         schedule_df.loc[mask, 'home_team_win_record'] = schedule_df['home_team'].map(teamWins)\n",
    "#         schedule_df.loc[mask, 'home_team_loss_record'] = schedule_df['home_team'].map(teamLosses)\n",
    "#         schedule_df.loc[mask, 'away_team_win_record'] = schedule_df['away_team'].map(teamWins)\n",
    "#         schedule_df.loc[mask, 'away_team_loss_record'] = schedule_df['away_team'].map(teamLosses)\n",
    "\n",
    "#     return schedule_df\n",
    "\n",
    "\n",
    "scheduleWithRecords = win_loss(schedule2024) \n",
    "previousGames = scheduleWithRecords[scheduleWithRecords['result'].notnull()]\n",
    "previousGames\n"
   ]
  }
 ],
 "metadata": {
  "kernelspec": {
   "display_name": "base",
   "language": "python",
   "name": "python3"
  },
  "language_info": {
   "codemirror_mode": {
    "name": "ipython",
    "version": 3
   },
   "file_extension": ".py",
   "mimetype": "text/x-python",
   "name": "python",
   "nbconvert_exporter": "python",
   "pygments_lexer": "ipython3",
   "version": "3.11.8"
  }
 },
 "nbformat": 4,
 "nbformat_minor": 2
}
