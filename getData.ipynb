{
 "cells": [
  {
   "cell_type": "code",
   "execution_count": 3,
   "metadata": {},
   "outputs": [
    {
     "ename": "ImportError",
     "evalue": "cannot import name 'calculate_top_player_matchup' from 'functions' (c:\\Users\\ieyua\\Downloads\\Desktop\\Github\\nflanalytics\\functions.py)",
     "output_type": "error",
     "traceback": [
      "\u001b[1;31m---------------------------------------------------------------------------\u001b[0m",
      "\u001b[1;31mImportError\u001b[0m                               Traceback (most recent call last)",
      "Cell \u001b[1;32mIn[3], line 8\u001b[0m\n\u001b[0;32m      5\u001b[0m \u001b[38;5;28;01mfrom\u001b[39;00m \u001b[38;5;21;01mmatplotlib\u001b[39;00m\u001b[38;5;21;01m.\u001b[39;00m\u001b[38;5;21;01mpatches\u001b[39;00m \u001b[38;5;28;01mimport\u001b[39;00m Rectangle\n\u001b[0;32m      6\u001b[0m \u001b[38;5;28;01mimport\u001b[39;00m \u001b[38;5;21;01mnumpy\u001b[39;00m \u001b[38;5;28;01mas\u001b[39;00m \u001b[38;5;21;01mnp\u001b[39;00m\n\u001b[1;32m----> 8\u001b[0m \u001b[38;5;28;01mfrom\u001b[39;00m \u001b[38;5;21;01mfunctions\u001b[39;00m \u001b[38;5;28;01mimport\u001b[39;00m win_loss, get_team_schedule, fantasy_defense_rankings, calculate_top_player_matchup, plot_fantasy_vs_matchup\n",
      "\u001b[1;31mImportError\u001b[0m: cannot import name 'calculate_top_player_matchup' from 'functions' (c:\\Users\\ieyua\\Downloads\\Desktop\\Github\\nflanalytics\\functions.py)"
     ]
    }
   ],
   "source": [
    "import nfl_data_py as nfl\n",
    "import pandas as pd\n",
    "import matplotlib.pyplot as plt\n",
    "from adjustText import adjust_text\n",
    "from matplotlib.patches import Rectangle\n",
    "import numpy as np\n",
    "\n",
    "from functions import win_loss, get_team_schedule, fantasy_defense_rankings, calculate_top_player_matchup, plot_fantasy_vs_matchup"
   ]
  },
  {
   "cell_type": "code",
   "execution_count": null,
   "metadata": {},
   "outputs": [
    {
     "name": "stdout",
     "output_type": "stream",
     "text": [
      "Downcasting floats.\n",
      "2024 done.\n",
      "Downcasting floats.\n"
     ]
    },
    {
     "name": "stderr",
     "output_type": "stream",
     "text": [
      "WARNING:root:The win totals data source is currently in flux and may be out of date.\n"
     ]
    }
   ],
   "source": [
    "week_by_week2024 = nfl.import_weekly_data([2024], downcast=True)\n",
    "play_by_play2024 = nfl.import_pbp_data([2024], downcast=True, cache=False, alt_path=None)\n",
    "schedule2024 = nfl.import_schedules([2024])\n",
    "seasonal2024 = nfl.import_seasonal_data([2024], \"REG\")\n",
    "winstotal2024 = nfl.import_win_totals([2024])"
   ]
  },
  {
   "cell_type": "code",
   "execution_count": null,
   "metadata": {},
   "outputs": [],
   "source": [
    "top10_qb, top30_rb, top30_wr, top12_te = calculate_top_player_matchup(schedule2024, week_by_week2024, 15, 17)\n",
    "\n",
    "plot_fantasy_vs_matchup(top30_rb, \"RB\")\n",
    "plot_fantasy_vs_matchup(top30_wr, \"WR\")\n",
    "plot_fantasy_vs_matchup(top12_te, \"TE\")\n",
    "plot_fantasy_vs_matchup(top10_qb, \"QB\")\n"
   ]
  }
 ],
 "metadata": {
  "kernelspec": {
   "display_name": "base",
   "language": "python",
   "name": "python3"
  },
  "language_info": {
   "codemirror_mode": {
    "name": "ipython",
    "version": 3
   },
   "file_extension": ".py",
   "mimetype": "text/x-python",
   "name": "python",
   "nbconvert_exporter": "python",
   "pygments_lexer": "ipython3",
   "version": "3.11.8"
  }
 },
 "nbformat": 4,
 "nbformat_minor": 2
}
